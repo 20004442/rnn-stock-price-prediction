{
  "nbformat": 4,
  "nbformat_minor": 0,
  "metadata": {
    "colab": {
      "provenance": []
    },
    "kernelspec": {
      "name": "python3",
      "display_name": "Python 3"
    },
    "language_info": {
      "name": "python"
    }
  },
  "cells": [
    {
      "cell_type": "code",
      "execution_count": 1,
      "metadata": {
        "id": "3NcBI_wWzrvW"
      },
      "outputs": [],
      "source": [
        "import numpy as np\n",
        "import matplotlib.pyplot as plt\n",
        "import pandas as pd\n",
        "from sklearn.preprocessing import MinMaxScaler\n",
        "from keras import layers\n",
        "from keras.models import Sequential"
      ]
    },
    {
      "cell_type": "code",
      "source": [
        "dataset_train = pd.read_csv('trainset.csv')"
      ],
      "metadata": {
        "id": "i58o14750EBT"
      },
      "execution_count": 3,
      "outputs": []
    },
    {
      "cell_type": "code",
      "source": [
        "dataset_train.columns"
      ],
      "metadata": {
        "colab": {
          "base_uri": "https://localhost:8080/"
        },
        "id": "iMXFp1wE0F6s",
        "outputId": "fd193581-f705-4532-ab09-60980e4d4445"
      },
      "execution_count": 4,
      "outputs": [
        {
          "output_type": "execute_result",
          "data": {
            "text/plain": [
              "Index(['Date', 'Open', 'High', 'Low', 'Close', 'Adj Close', 'Volume'], dtype='object')"
            ]
          },
          "metadata": {},
          "execution_count": 4
        }
      ]
    },
    {
      "cell_type": "code",
      "source": [
        "dataset_train.head()"
      ],
      "metadata": {
        "colab": {
          "base_uri": "https://localhost:8080/",
          "height": 206
        },
        "id": "NlXeSe-A0Rwf",
        "outputId": "6f6d8ba9-453a-4c54-c9e5-7e4152b593d6"
      },
      "execution_count": 5,
      "outputs": [
        {
          "output_type": "execute_result",
          "data": {
            "text/plain": [
              "         Date        Open        High         Low       Close   Adj Close  \\\n",
              "0  2013-01-02  357.385559  361.151062  355.959839  359.288177  359.288177   \n",
              "1  2013-01-03  360.122742  363.600128  358.031342  359.496826  359.496826   \n",
              "2  2013-01-04  362.313507  368.339294  361.488861  366.600616  366.600616   \n",
              "3  2013-01-07  365.348755  367.301056  362.929504  365.001007  365.001007   \n",
              "4  2013-01-08  365.393463  365.771027  359.874359  364.280701  364.280701   \n",
              "\n",
              "    Volume  \n",
              "0  5115500  \n",
              "1  4666500  \n",
              "2  5562800  \n",
              "3  3332900  \n",
              "4  3373900  "
            ],
            "text/html": [
              "\n",
              "  <div id=\"df-076b0186-1fb0-45b9-a3aa-1499e3b1f2d7\">\n",
              "    <div class=\"colab-df-container\">\n",
              "      <div>\n",
              "<style scoped>\n",
              "    .dataframe tbody tr th:only-of-type {\n",
              "        vertical-align: middle;\n",
              "    }\n",
              "\n",
              "    .dataframe tbody tr th {\n",
              "        vertical-align: top;\n",
              "    }\n",
              "\n",
              "    .dataframe thead th {\n",
              "        text-align: right;\n",
              "    }\n",
              "</style>\n",
              "<table border=\"1\" class=\"dataframe\">\n",
              "  <thead>\n",
              "    <tr style=\"text-align: right;\">\n",
              "      <th></th>\n",
              "      <th>Date</th>\n",
              "      <th>Open</th>\n",
              "      <th>High</th>\n",
              "      <th>Low</th>\n",
              "      <th>Close</th>\n",
              "      <th>Adj Close</th>\n",
              "      <th>Volume</th>\n",
              "    </tr>\n",
              "  </thead>\n",
              "  <tbody>\n",
              "    <tr>\n",
              "      <th>0</th>\n",
              "      <td>2013-01-02</td>\n",
              "      <td>357.385559</td>\n",
              "      <td>361.151062</td>\n",
              "      <td>355.959839</td>\n",
              "      <td>359.288177</td>\n",
              "      <td>359.288177</td>\n",
              "      <td>5115500</td>\n",
              "    </tr>\n",
              "    <tr>\n",
              "      <th>1</th>\n",
              "      <td>2013-01-03</td>\n",
              "      <td>360.122742</td>\n",
              "      <td>363.600128</td>\n",
              "      <td>358.031342</td>\n",
              "      <td>359.496826</td>\n",
              "      <td>359.496826</td>\n",
              "      <td>4666500</td>\n",
              "    </tr>\n",
              "    <tr>\n",
              "      <th>2</th>\n",
              "      <td>2013-01-04</td>\n",
              "      <td>362.313507</td>\n",
              "      <td>368.339294</td>\n",
              "      <td>361.488861</td>\n",
              "      <td>366.600616</td>\n",
              "      <td>366.600616</td>\n",
              "      <td>5562800</td>\n",
              "    </tr>\n",
              "    <tr>\n",
              "      <th>3</th>\n",
              "      <td>2013-01-07</td>\n",
              "      <td>365.348755</td>\n",
              "      <td>367.301056</td>\n",
              "      <td>362.929504</td>\n",
              "      <td>365.001007</td>\n",
              "      <td>365.001007</td>\n",
              "      <td>3332900</td>\n",
              "    </tr>\n",
              "    <tr>\n",
              "      <th>4</th>\n",
              "      <td>2013-01-08</td>\n",
              "      <td>365.393463</td>\n",
              "      <td>365.771027</td>\n",
              "      <td>359.874359</td>\n",
              "      <td>364.280701</td>\n",
              "      <td>364.280701</td>\n",
              "      <td>3373900</td>\n",
              "    </tr>\n",
              "  </tbody>\n",
              "</table>\n",
              "</div>\n",
              "      <button class=\"colab-df-convert\" onclick=\"convertToInteractive('df-076b0186-1fb0-45b9-a3aa-1499e3b1f2d7')\"\n",
              "              title=\"Convert this dataframe to an interactive table.\"\n",
              "              style=\"display:none;\">\n",
              "        \n",
              "  <svg xmlns=\"http://www.w3.org/2000/svg\" height=\"24px\"viewBox=\"0 0 24 24\"\n",
              "       width=\"24px\">\n",
              "    <path d=\"M0 0h24v24H0V0z\" fill=\"none\"/>\n",
              "    <path d=\"M18.56 5.44l.94 2.06.94-2.06 2.06-.94-2.06-.94-.94-2.06-.94 2.06-2.06.94zm-11 1L8.5 8.5l.94-2.06 2.06-.94-2.06-.94L8.5 2.5l-.94 2.06-2.06.94zm10 10l.94 2.06.94-2.06 2.06-.94-2.06-.94-.94-2.06-.94 2.06-2.06.94z\"/><path d=\"M17.41 7.96l-1.37-1.37c-.4-.4-.92-.59-1.43-.59-.52 0-1.04.2-1.43.59L10.3 9.45l-7.72 7.72c-.78.78-.78 2.05 0 2.83L4 21.41c.39.39.9.59 1.41.59.51 0 1.02-.2 1.41-.59l7.78-7.78 2.81-2.81c.8-.78.8-2.07 0-2.86zM5.41 20L4 18.59l7.72-7.72 1.47 1.35L5.41 20z\"/>\n",
              "  </svg>\n",
              "      </button>\n",
              "      \n",
              "  <style>\n",
              "    .colab-df-container {\n",
              "      display:flex;\n",
              "      flex-wrap:wrap;\n",
              "      gap: 12px;\n",
              "    }\n",
              "\n",
              "    .colab-df-convert {\n",
              "      background-color: #E8F0FE;\n",
              "      border: none;\n",
              "      border-radius: 50%;\n",
              "      cursor: pointer;\n",
              "      display: none;\n",
              "      fill: #1967D2;\n",
              "      height: 32px;\n",
              "      padding: 0 0 0 0;\n",
              "      width: 32px;\n",
              "    }\n",
              "\n",
              "    .colab-df-convert:hover {\n",
              "      background-color: #E2EBFA;\n",
              "      box-shadow: 0px 1px 2px rgba(60, 64, 67, 0.3), 0px 1px 3px 1px rgba(60, 64, 67, 0.15);\n",
              "      fill: #174EA6;\n",
              "    }\n",
              "\n",
              "    [theme=dark] .colab-df-convert {\n",
              "      background-color: #3B4455;\n",
              "      fill: #D2E3FC;\n",
              "    }\n",
              "\n",
              "    [theme=dark] .colab-df-convert:hover {\n",
              "      background-color: #434B5C;\n",
              "      box-shadow: 0px 1px 3px 1px rgba(0, 0, 0, 0.15);\n",
              "      filter: drop-shadow(0px 1px 2px rgba(0, 0, 0, 0.3));\n",
              "      fill: #FFFFFF;\n",
              "    }\n",
              "  </style>\n",
              "\n",
              "      <script>\n",
              "        const buttonEl =\n",
              "          document.querySelector('#df-076b0186-1fb0-45b9-a3aa-1499e3b1f2d7 button.colab-df-convert');\n",
              "        buttonEl.style.display =\n",
              "          google.colab.kernel.accessAllowed ? 'block' : 'none';\n",
              "\n",
              "        async function convertToInteractive(key) {\n",
              "          const element = document.querySelector('#df-076b0186-1fb0-45b9-a3aa-1499e3b1f2d7');\n",
              "          const dataTable =\n",
              "            await google.colab.kernel.invokeFunction('convertToInteractive',\n",
              "                                                     [key], {});\n",
              "          if (!dataTable) return;\n",
              "\n",
              "          const docLinkHtml = 'Like what you see? Visit the ' +\n",
              "            '<a target=\"_blank\" href=https://colab.research.google.com/notebooks/data_table.ipynb>data table notebook</a>'\n",
              "            + ' to learn more about interactive tables.';\n",
              "          element.innerHTML = '';\n",
              "          dataTable['output_type'] = 'display_data';\n",
              "          await google.colab.output.renderOutput(dataTable, element);\n",
              "          const docLink = document.createElement('div');\n",
              "          docLink.innerHTML = docLinkHtml;\n",
              "          element.appendChild(docLink);\n",
              "        }\n",
              "      </script>\n",
              "    </div>\n",
              "  </div>\n",
              "  "
            ]
          },
          "metadata": {},
          "execution_count": 5
        }
      ]
    },
    {
      "cell_type": "code",
      "source": [
        "train_set = dataset_train.iloc[:,1:2].values"
      ],
      "metadata": {
        "id": "8FF-ykcw0T6S"
      },
      "execution_count": 6,
      "outputs": []
    },
    {
      "cell_type": "code",
      "source": [
        "type(train_set)"
      ],
      "metadata": {
        "colab": {
          "base_uri": "https://localhost:8080/"
        },
        "id": "T32JjC3K0V0F",
        "outputId": "c142cbce-a892-4aee-d8cd-c9c2d2aa720e"
      },
      "execution_count": 7,
      "outputs": [
        {
          "output_type": "execute_result",
          "data": {
            "text/plain": [
              "numpy.ndarray"
            ]
          },
          "metadata": {},
          "execution_count": 7
        }
      ]
    },
    {
      "cell_type": "code",
      "source": [
        "train_set.shape"
      ],
      "metadata": {
        "colab": {
          "base_uri": "https://localhost:8080/"
        },
        "id": "oARlTxLK0XqF",
        "outputId": "9985dc44-92d0-4284-9fd0-617575532410"
      },
      "execution_count": 8,
      "outputs": [
        {
          "output_type": "execute_result",
          "data": {
            "text/plain": [
              "(1259, 1)"
            ]
          },
          "metadata": {},
          "execution_count": 8
        }
      ]
    },
    {
      "cell_type": "code",
      "source": [
        "sc = MinMaxScaler(feature_range=(0,1))\n",
        "training_set_scaled = sc.fit_transform(train_set)"
      ],
      "metadata": {
        "id": "QVlCAKju0ZhZ"
      },
      "execution_count": 9,
      "outputs": []
    },
    {
      "cell_type": "code",
      "source": [
        "training_set_scaled.shape"
      ],
      "metadata": {
        "colab": {
          "base_uri": "https://localhost:8080/"
        },
        "id": "GCKa9EpD0b5k",
        "outputId": "e678ee00-0bfd-4bf7-dcc0-e31000b25d4f"
      },
      "execution_count": 10,
      "outputs": [
        {
          "output_type": "execute_result",
          "data": {
            "text/plain": [
              "(1259, 1)"
            ]
          },
          "metadata": {},
          "execution_count": 10
        }
      ]
    },
    {
      "cell_type": "code",
      "source": [
        "X_train_array = []\n",
        "y_train_array = []\n",
        "for i in range(60, 1259):\n",
        "  X_train_array.append(training_set_scaled[i-60:i,0])\n",
        "  y_train_array.append(training_set_scaled[i,0])\n",
        "X_train, y_train = np.array(X_train_array), np.array(y_train_array)\n",
        "X_train1 = X_train.reshape((X_train.shape[0], X_train.shape[1],1))"
      ],
      "metadata": {
        "id": "DFkCAuuK0eIn"
      },
      "execution_count": 11,
      "outputs": []
    },
    {
      "cell_type": "code",
      "source": [
        "X_train.shape"
      ],
      "metadata": {
        "colab": {
          "base_uri": "https://localhost:8080/"
        },
        "id": "seB7mU_m0hIj",
        "outputId": "3d43dcd3-23ba-4f92-f06e-ddf03b14d851"
      },
      "execution_count": 12,
      "outputs": [
        {
          "output_type": "execute_result",
          "data": {
            "text/plain": [
              "(1199, 60)"
            ]
          },
          "metadata": {},
          "execution_count": 12
        }
      ]
    },
    {
      "cell_type": "code",
      "source": [
        "length = 60\n",
        "n_features = 1"
      ],
      "metadata": {
        "id": "ipCXYOTF0jXL"
      },
      "execution_count": 13,
      "outputs": []
    },
    {
      "cell_type": "code",
      "source": [
        "model = Sequential()\n",
        "model.add(layers.SimpleRNN(10,input_shape=(60,1)))\n",
        "model.add(layers.Dense(1))\n",
        "\n",
        "model.compile(optimizer='adam', loss='mse')"
      ],
      "metadata": {
        "id": "ueVKrkPM0l51"
      },
      "execution_count": 14,
      "outputs": []
    },
    {
      "cell_type": "code",
      "source": [
        "model.summary()"
      ],
      "metadata": {
        "colab": {
          "base_uri": "https://localhost:8080/"
        },
        "id": "a9STtPqA1NXc",
        "outputId": "1522e287-2a8e-4205-e5b5-5e68ff07ea0c"
      },
      "execution_count": 15,
      "outputs": [
        {
          "output_type": "stream",
          "name": "stdout",
          "text": [
            "Model: \"sequential\"\n",
            "_________________________________________________________________\n",
            " Layer (type)                Output Shape              Param #   \n",
            "=================================================================\n",
            " simple_rnn (SimpleRNN)      (None, 10)                120       \n",
            "                                                                 \n",
            " dense (Dense)               (None, 1)                 11        \n",
            "                                                                 \n",
            "=================================================================\n",
            "Total params: 131\n",
            "Trainable params: 131\n",
            "Non-trainable params: 0\n",
            "_________________________________________________________________\n"
          ]
        }
      ]
    },
    {
      "cell_type": "code",
      "source": [
        "model.fit(X_train1,y_train,epochs=100, batch_size=32)"
      ],
      "metadata": {
        "colab": {
          "base_uri": "https://localhost:8080/"
        },
        "id": "aftfComR1SFd",
        "outputId": "d6795e70-f3eb-4f16-c076-ed9244222b63"
      },
      "execution_count": 16,
      "outputs": [
        {
          "output_type": "stream",
          "name": "stdout",
          "text": [
            "Epoch 1/100\n",
            "38/38 [==============================] - 1s 6ms/step - loss: 0.0028\n",
            "Epoch 2/100\n",
            "38/38 [==============================] - 0s 5ms/step - loss: 8.0977e-04\n",
            "Epoch 3/100\n",
            "38/38 [==============================] - 0s 5ms/step - loss: 6.3299e-04\n",
            "Epoch 4/100\n",
            "38/38 [==============================] - 0s 5ms/step - loss: 5.4039e-04\n",
            "Epoch 5/100\n",
            "38/38 [==============================] - 0s 6ms/step - loss: 4.6799e-04\n",
            "Epoch 6/100\n",
            "38/38 [==============================] - 0s 6ms/step - loss: 4.2707e-04\n",
            "Epoch 7/100\n",
            "38/38 [==============================] - 0s 6ms/step - loss: 3.8520e-04\n",
            "Epoch 8/100\n",
            "38/38 [==============================] - 0s 6ms/step - loss: 3.5973e-04\n",
            "Epoch 9/100\n",
            "38/38 [==============================] - 0s 6ms/step - loss: 3.4602e-04\n",
            "Epoch 10/100\n",
            "38/38 [==============================] - 0s 6ms/step - loss: 3.3453e-04\n",
            "Epoch 11/100\n",
            "38/38 [==============================] - 0s 6ms/step - loss: 3.0965e-04\n",
            "Epoch 12/100\n",
            "38/38 [==============================] - 0s 6ms/step - loss: 3.0560e-04\n",
            "Epoch 13/100\n",
            "38/38 [==============================] - 0s 5ms/step - loss: 2.9630e-04\n",
            "Epoch 14/100\n",
            "38/38 [==============================] - 0s 5ms/step - loss: 2.8073e-04\n",
            "Epoch 15/100\n",
            "38/38 [==============================] - 0s 5ms/step - loss: 2.7571e-04\n",
            "Epoch 16/100\n",
            "38/38 [==============================] - 0s 5ms/step - loss: 2.6546e-04\n",
            "Epoch 17/100\n",
            "38/38 [==============================] - 0s 5ms/step - loss: 2.5581e-04\n",
            "Epoch 18/100\n",
            "38/38 [==============================] - 0s 6ms/step - loss: 2.4889e-04\n",
            "Epoch 19/100\n",
            "38/38 [==============================] - 0s 6ms/step - loss: 2.4552e-04\n",
            "Epoch 20/100\n",
            "38/38 [==============================] - 0s 6ms/step - loss: 2.4166e-04\n",
            "Epoch 21/100\n",
            "38/38 [==============================] - 0s 5ms/step - loss: 2.4309e-04\n",
            "Epoch 22/100\n",
            "38/38 [==============================] - 0s 6ms/step - loss: 2.3124e-04\n",
            "Epoch 23/100\n",
            "38/38 [==============================] - 0s 5ms/step - loss: 2.2833e-04\n",
            "Epoch 24/100\n",
            "38/38 [==============================] - 0s 6ms/step - loss: 2.2569e-04\n",
            "Epoch 25/100\n",
            "38/38 [==============================] - 0s 6ms/step - loss: 2.2155e-04\n",
            "Epoch 26/100\n",
            "38/38 [==============================] - 0s 6ms/step - loss: 2.2294e-04\n",
            "Epoch 27/100\n",
            "38/38 [==============================] - 0s 6ms/step - loss: 2.1788e-04\n",
            "Epoch 28/100\n",
            "38/38 [==============================] - 0s 5ms/step - loss: 2.1505e-04\n",
            "Epoch 29/100\n",
            "38/38 [==============================] - 0s 6ms/step - loss: 2.0834e-04\n",
            "Epoch 30/100\n",
            "38/38 [==============================] - 0s 6ms/step - loss: 2.0957e-04\n",
            "Epoch 31/100\n",
            "38/38 [==============================] - 0s 6ms/step - loss: 2.1611e-04\n",
            "Epoch 32/100\n",
            "38/38 [==============================] - 0s 6ms/step - loss: 2.0432e-04\n",
            "Epoch 33/100\n",
            "38/38 [==============================] - 0s 5ms/step - loss: 2.1190e-04\n",
            "Epoch 34/100\n",
            "38/38 [==============================] - 0s 6ms/step - loss: 2.0241e-04\n",
            "Epoch 35/100\n",
            "38/38 [==============================] - 0s 6ms/step - loss: 1.9801e-04\n",
            "Epoch 36/100\n",
            "38/38 [==============================] - 0s 5ms/step - loss: 1.9980e-04\n",
            "Epoch 37/100\n",
            "38/38 [==============================] - 0s 5ms/step - loss: 2.0956e-04\n",
            "Epoch 38/100\n",
            "38/38 [==============================] - 0s 6ms/step - loss: 1.9900e-04\n",
            "Epoch 39/100\n",
            "38/38 [==============================] - 0s 6ms/step - loss: 1.9428e-04\n",
            "Epoch 40/100\n",
            "38/38 [==============================] - 0s 5ms/step - loss: 1.9762e-04\n",
            "Epoch 41/100\n",
            "38/38 [==============================] - 0s 5ms/step - loss: 1.9479e-04\n",
            "Epoch 42/100\n",
            "38/38 [==============================] - 0s 5ms/step - loss: 1.9896e-04\n",
            "Epoch 43/100\n",
            "38/38 [==============================] - 0s 5ms/step - loss: 1.9671e-04\n",
            "Epoch 44/100\n",
            "38/38 [==============================] - 0s 5ms/step - loss: 1.9281e-04\n",
            "Epoch 45/100\n",
            "38/38 [==============================] - 0s 6ms/step - loss: 1.8580e-04\n",
            "Epoch 46/100\n",
            "38/38 [==============================] - 0s 5ms/step - loss: 1.8507e-04\n",
            "Epoch 47/100\n",
            "38/38 [==============================] - 0s 5ms/step - loss: 1.9397e-04\n",
            "Epoch 48/100\n",
            "38/38 [==============================] - 0s 6ms/step - loss: 1.8771e-04\n",
            "Epoch 49/100\n",
            "38/38 [==============================] - 0s 5ms/step - loss: 1.8515e-04\n",
            "Epoch 50/100\n",
            "38/38 [==============================] - 0s 6ms/step - loss: 1.8660e-04\n",
            "Epoch 51/100\n",
            "38/38 [==============================] - 0s 5ms/step - loss: 1.9197e-04\n",
            "Epoch 52/100\n",
            "38/38 [==============================] - 0s 6ms/step - loss: 1.8646e-04\n",
            "Epoch 53/100\n",
            "38/38 [==============================] - 0s 5ms/step - loss: 1.8994e-04\n",
            "Epoch 54/100\n",
            "38/38 [==============================] - 0s 5ms/step - loss: 1.9484e-04\n",
            "Epoch 55/100\n",
            "38/38 [==============================] - 0s 5ms/step - loss: 1.9224e-04\n",
            "Epoch 56/100\n",
            "38/38 [==============================] - 0s 6ms/step - loss: 1.7714e-04\n",
            "Epoch 57/100\n",
            "38/38 [==============================] - 0s 6ms/step - loss: 1.8000e-04\n",
            "Epoch 58/100\n",
            "38/38 [==============================] - 0s 6ms/step - loss: 1.8085e-04\n",
            "Epoch 59/100\n",
            "38/38 [==============================] - 0s 6ms/step - loss: 1.7856e-04\n",
            "Epoch 60/100\n",
            "38/38 [==============================] - 0s 5ms/step - loss: 1.8716e-04\n",
            "Epoch 61/100\n",
            "38/38 [==============================] - 0s 6ms/step - loss: 1.7961e-04\n",
            "Epoch 62/100\n",
            "38/38 [==============================] - 0s 5ms/step - loss: 1.7590e-04\n",
            "Epoch 63/100\n",
            "38/38 [==============================] - 0s 6ms/step - loss: 1.7954e-04\n",
            "Epoch 64/100\n",
            "38/38 [==============================] - 0s 5ms/step - loss: 1.7437e-04\n",
            "Epoch 65/100\n",
            "38/38 [==============================] - 0s 6ms/step - loss: 1.8157e-04\n",
            "Epoch 66/100\n",
            "38/38 [==============================] - 0s 5ms/step - loss: 1.8056e-04\n",
            "Epoch 67/100\n",
            "38/38 [==============================] - 0s 5ms/step - loss: 1.7474e-04\n",
            "Epoch 68/100\n",
            "38/38 [==============================] - 0s 5ms/step - loss: 1.7789e-04\n",
            "Epoch 69/100\n",
            "38/38 [==============================] - 0s 5ms/step - loss: 1.7845e-04\n",
            "Epoch 70/100\n",
            "38/38 [==============================] - 0s 5ms/step - loss: 1.7445e-04\n",
            "Epoch 71/100\n",
            "38/38 [==============================] - 0s 5ms/step - loss: 2.0206e-04\n",
            "Epoch 72/100\n",
            "38/38 [==============================] - 0s 5ms/step - loss: 1.8305e-04\n",
            "Epoch 73/100\n",
            "38/38 [==============================] - 0s 6ms/step - loss: 1.7321e-04\n",
            "Epoch 74/100\n",
            "38/38 [==============================] - 0s 5ms/step - loss: 1.8175e-04\n",
            "Epoch 75/100\n",
            "38/38 [==============================] - 0s 5ms/step - loss: 1.7076e-04\n",
            "Epoch 76/100\n",
            "38/38 [==============================] - 0s 5ms/step - loss: 1.7531e-04\n",
            "Epoch 77/100\n",
            "38/38 [==============================] - 0s 5ms/step - loss: 1.8403e-04\n",
            "Epoch 78/100\n",
            "38/38 [==============================] - 0s 5ms/step - loss: 1.7355e-04\n",
            "Epoch 79/100\n",
            "38/38 [==============================] - 0s 5ms/step - loss: 1.7620e-04\n",
            "Epoch 80/100\n",
            "38/38 [==============================] - 0s 5ms/step - loss: 1.7934e-04\n",
            "Epoch 81/100\n",
            "38/38 [==============================] - 0s 5ms/step - loss: 1.7172e-04\n",
            "Epoch 82/100\n",
            "38/38 [==============================] - 0s 5ms/step - loss: 1.7734e-04\n",
            "Epoch 83/100\n",
            "38/38 [==============================] - 0s 5ms/step - loss: 1.8116e-04\n",
            "Epoch 84/100\n",
            "38/38 [==============================] - 0s 6ms/step - loss: 1.8333e-04\n",
            "Epoch 85/100\n",
            "38/38 [==============================] - 0s 5ms/step - loss: 1.7014e-04\n",
            "Epoch 86/100\n",
            "38/38 [==============================] - 0s 5ms/step - loss: 1.7075e-04\n",
            "Epoch 87/100\n",
            "38/38 [==============================] - 0s 6ms/step - loss: 1.7975e-04\n",
            "Epoch 88/100\n",
            "38/38 [==============================] - 0s 5ms/step - loss: 1.7182e-04\n",
            "Epoch 89/100\n",
            "38/38 [==============================] - 0s 5ms/step - loss: 1.6832e-04\n",
            "Epoch 90/100\n",
            "38/38 [==============================] - 0s 5ms/step - loss: 1.6968e-04\n",
            "Epoch 91/100\n",
            "38/38 [==============================] - 0s 5ms/step - loss: 1.7372e-04\n",
            "Epoch 92/100\n",
            "38/38 [==============================] - 0s 6ms/step - loss: 1.7325e-04\n",
            "Epoch 93/100\n",
            "38/38 [==============================] - 0s 6ms/step - loss: 1.7289e-04\n",
            "Epoch 94/100\n",
            "38/38 [==============================] - 0s 6ms/step - loss: 1.7937e-04\n",
            "Epoch 95/100\n",
            "38/38 [==============================] - 0s 5ms/step - loss: 1.7090e-04\n",
            "Epoch 96/100\n",
            "38/38 [==============================] - 0s 5ms/step - loss: 1.6884e-04\n",
            "Epoch 97/100\n",
            "38/38 [==============================] - 0s 5ms/step - loss: 1.7792e-04\n",
            "Epoch 98/100\n",
            "38/38 [==============================] - 0s 5ms/step - loss: 1.7983e-04\n",
            "Epoch 99/100\n",
            "38/38 [==============================] - 0s 5ms/step - loss: 1.7018e-04\n",
            "Epoch 100/100\n",
            "38/38 [==============================] - 0s 5ms/step - loss: 1.8531e-04\n"
          ]
        },
        {
          "output_type": "execute_result",
          "data": {
            "text/plain": [
              "<keras.callbacks.History at 0x7f6caa2747d0>"
            ]
          },
          "metadata": {},
          "execution_count": 16
        }
      ]
    },
    {
      "cell_type": "code",
      "source": [
        "dataset_test = pd.read_csv('testset.csv')"
      ],
      "metadata": {
        "id": "xeNI2jgI1Z19"
      },
      "execution_count": 17,
      "outputs": []
    },
    {
      "cell_type": "code",
      "source": [
        "test_set = dataset_test.iloc[:,1:2].values"
      ],
      "metadata": {
        "id": "Z19advZ91g8T"
      },
      "execution_count": 18,
      "outputs": []
    },
    {
      "cell_type": "code",
      "source": [
        "test_set.shape"
      ],
      "metadata": {
        "colab": {
          "base_uri": "https://localhost:8080/"
        },
        "id": "LzA4MoEQ1i-O",
        "outputId": "c92be7c6-4106-487e-8566-f3c8ecdd3997"
      },
      "execution_count": 19,
      "outputs": [
        {
          "output_type": "execute_result",
          "data": {
            "text/plain": [
              "(125, 1)"
            ]
          },
          "metadata": {},
          "execution_count": 19
        }
      ]
    },
    {
      "cell_type": "code",
      "source": [
        "dataset_total = pd.concat((dataset_train['Open'],dataset_test['Open']),axis=0)"
      ],
      "metadata": {
        "id": "t0rq8RHS1krd"
      },
      "execution_count": 20,
      "outputs": []
    },
    {
      "cell_type": "code",
      "source": [
        "inputs = dataset_total.values\n",
        "inputs = inputs.reshape(-1,1)\n",
        "inputs_scaled=sc.transform(inputs)\n",
        "X_test = []\n",
        "for i in range(60,1384):\n",
        "  X_test.append(inputs_scaled[i-60:i,0])\n",
        "X_test = np.array(X_test)\n",
        "X_test = np.reshape(X_test,(X_test.shape[0], X_test.shape[1],1))"
      ],
      "metadata": {
        "id": "eQwuj7hm1m40"
      },
      "execution_count": 21,
      "outputs": []
    },
    {
      "cell_type": "code",
      "source": [
        "X_test.shape"
      ],
      "metadata": {
        "colab": {
          "base_uri": "https://localhost:8080/"
        },
        "id": "MIcujIpF1p_m",
        "outputId": "d2bcab13-8a28-4fad-fc18-c62afcb6232c"
      },
      "execution_count": 22,
      "outputs": [
        {
          "output_type": "execute_result",
          "data": {
            "text/plain": [
              "(1324, 60, 1)"
            ]
          },
          "metadata": {},
          "execution_count": 22
        }
      ]
    },
    {
      "cell_type": "code",
      "source": [
        "predicted_stock_price_scaled = model.predict(X_test)\n",
        "predicted_stock_price = sc.inverse_transform(predicted_stock_price_scaled)"
      ],
      "metadata": {
        "id": "Vsnue8NX1uXZ"
      },
      "execution_count": 23,
      "outputs": []
    },
    {
      "cell_type": "code",
      "source": [
        "plt.plot(np.arange(0,1384),inputs, color='red', label = 'Test(Real) Google stock price')\n",
        "plt.plot(np.arange(60,1384),predicted_stock_price, color='blue', label = 'Predicted Google stock price')\n",
        "plt.title('Google Stock Price Prediction')\n",
        "plt.xlabel('Time')\n",
        "plt.ylabel('Google Stock Price')\n",
        "plt.legend()\n",
        "plt.show()"
      ],
      "metadata": {
        "colab": {
          "base_uri": "https://localhost:8080/",
          "height": 295
        },
        "id": "Lpp3Byqz1wcp",
        "outputId": "0a927e8a-c4eb-4309-f6a6-0ec934d8a046"
      },
      "execution_count": 24,
      "outputs": [
        {
          "output_type": "display_data",
          "data": {
            "text/plain": [
              "<Figure size 432x288 with 1 Axes>"
            ],
            "image/png": "[encoded data removed]"
          },
          "metadata": {
            "needs_background": "light"
          }
        }
      ]
    },
    {
      "cell_type": "code",
      "source": [],
      "metadata": {
        "id": "9Y7IrRI01ys-"
      },
      "execution_count": null,
      "outputs": []
    }
  ]
}